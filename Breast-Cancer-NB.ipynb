{
 "cells": [
  {
   "cell_type": "code",
   "execution_count": 5,
   "id": "ab99c378",
   "metadata": {},
   "outputs": [
    {
     "name": "stdout",
     "output_type": "stream",
     "text": [
      "Naive Bayes Classification Results\n",
      "----------------------------------\n",
      "Accuracy: 0.9659\n",
      "Confusion Matrix:\n",
      "[[123   4]\n",
      " [  3  75]]\n",
      "\n",
      "Classification Report:\n",
      "              precision    recall  f1-score   support\n",
      "\n",
      "           2       0.98      0.97      0.97       127\n",
      "           4       0.95      0.96      0.96        78\n",
      "\n",
      "    accuracy                           0.97       205\n",
      "   macro avg       0.96      0.97      0.96       205\n",
      "weighted avg       0.97      0.97      0.97       205\n",
      "\n"
     ]
    }
   ],
   "source": [
    "import pandas as pd\n",
    "import numpy as np\n",
    "from sklearn.model_selection import train_test_split\n",
    "from sklearn.naive_bayes import GaussianNB\n",
    "from sklearn.metrics import accuracy_score, confusion_matrix, classification_report\n",
    "\n",
    "# Loading the data\n",
    "df = pd.read_csv(\"/Users/gyan/Documents/Knowledge Discovery and Data Mining/CSV Files/breast-cancer-wisconsin.csv\")\n",
    "\n",
    "# Replacing ? with NaN and dropping rows with missing values\n",
    "df.replace('?', np.nan, inplace=True)\n",
    "df.dropna(inplace=True)\n",
    "\n",
    "#First column is Sample and last column is Class\n",
    "feature_columns = df.columns[1:-1]\n",
    "for col in feature_columns:\n",
    "    df[col] = pd.to_numeric(df[col])\n",
    "\n",
    "#Defining features and targets\n",
    "X = df.drop([\"Sample\", \"Class\"], axis=1)\n",
    "y = df[\"Class\"]\n",
    "\n",
    "#Splitting 70% train and 30% test\n",
    "X_train, X_test, y_train, y_test = train_test_split(\n",
    "    X, y, test_size=0.3, random_state=42\n",
    ")\n",
    "\n",
    "#Building Naives Bayes model\n",
    "model = GaussianNB()\n",
    "model.fit(X_train, y_train)\n",
    "\n",
    "#Predictions and evaluating model\n",
    "y_prediction = model.predict(X_test)\n",
    "accuracy = accuracy_score(y_test, y_prediction)\n",
    "c_matrix = confusion_matrix(y_test, y_prediction)\n",
    "c_report = classification_report(y_test, y_prediction)\n",
    "\n",
    "print(\"Naive Bayes Classification Results\")\n",
    "print(\"----------------------------------\")\n",
    "print(f\"Accuracy: {accuracy:.4f}\")\n",
    "print(\"Confusion Matrix:\")\n",
    "print(c_matrix)\n",
    "print(\"\\nClassification Report:\")\n",
    "print(c_report)"
   ]
  },
  {
   "cell_type": "code",
   "execution_count": null,
   "id": "0a866102",
   "metadata": {},
   "outputs": [],
   "source": []
  }
 ],
 "metadata": {
  "kernelspec": {
   "display_name": "Python 3 (ipykernel)",
   "language": "python",
   "name": "python3"
  },
  "language_info": {
   "codemirror_mode": {
    "name": "ipython",
    "version": 3
   },
   "file_extension": ".py",
   "mimetype": "text/x-python",
   "name": "python",
   "nbconvert_exporter": "python",
   "pygments_lexer": "ipython3",
   "version": "3.11.4"
  }
 },
 "nbformat": 4,
 "nbformat_minor": 5
}
